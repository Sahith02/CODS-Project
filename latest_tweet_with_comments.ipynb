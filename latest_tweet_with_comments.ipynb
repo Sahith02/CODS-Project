{
 "cells": [
  {
   "cell_type": "markdown",
   "metadata": {},
   "source": [
    "###### time taken = 5-8 sec avg"
   ]
  },
  {
   "cell_type": "code",
   "execution_count": 41,
   "metadata": {},
   "outputs": [],
   "source": [
    "import tweepy\n",
    "import sys"
   ]
  },
  {
   "cell_type": "code",
   "execution_count": 42,
   "metadata": {},
   "outputs": [],
   "source": [
    "username = 'capt_amarinder'\n",
    "maxreplies=10"
   ]
  },
  {
   "cell_type": "code",
   "execution_count": 43,
   "metadata": {
    "scrolled": true
   },
   "outputs": [],
   "source": [
    "def tweetextraction(username,maxreplies):\n",
    "    consumer_key = \"nuVGJn0bEsYiKJ7mKAPTwkskK\"\n",
    "    consumer_secret = \"XwrP0uU74FzgOE2p5X2EFkgLtrv4sXEvwOBl1FgmSR1gjOM5SX\"\n",
    "    access_token = \"1284091258638462976-0aO8tuh7lhsWXtf6Jck2vV1twJzGE4\"\n",
    "    access_token_secret = \"x7Ux4p4AwW7oZocVYhwTJZEYVlSUzo20EOW4WX4B1CyLw\"\n",
    "    auth = tweepy.OAuthHandler(consumer_key, consumer_secret)\n",
    "    auth.set_access_token(access_token, access_token_secret)\n",
    "    api = tweepy.API(auth,wait_on_rate_limit=True)\n",
    "    tweetwithreply = dict()\n",
    "    i=0 \n",
    "    for full_tweets in tweepy.Cursor(api.user_timeline,screen_name=username,timeout=999).items(1):\n",
    "        tweet=full_tweets.text\n",
    "    for replies in tweepy.Cursor(api.search,q='to:'+username,result_type='mixed',timeout=999).items(100):\n",
    "        if hasattr(replies, 'in_reply_to_status_id_str'):\n",
    "            if (replies.in_reply_to_status_id_str==full_tweets.id_str and i<maxreplies):\n",
    "                i+=1\n",
    "                tweet_replies.append(replies.text)\n",
    "                print(i)\n",
    "    return tweet"
   ]
  },
  {
   "cell_type": "code",
   "execution_count": 45,
   "metadata": {},
   "outputs": [
    {
     "name": "stdout",
     "output_type": "stream",
     "text": [
      "1\n",
      "2\n",
      "3\n",
      "4\n",
      "5\n",
      "6\n",
      "7\n"
     ]
    }
   ],
   "source": [
    "tweet_replies=[]\n",
    "tweet=tweetextraction(username,maxreplies)"
   ]
  },
  {
   "cell_type": "code",
   "execution_count": 39,
   "metadata": {},
   "outputs": [
    {
     "data": {
      "text/plain": [
       "'Back in my Army days, I had learnt a very important lesson that when we fight together we don’t get battle fatigue.… https://t.co/jkIgehqNyN'"
      ]
     },
     "execution_count": 39,
     "metadata": {},
     "output_type": "execute_result"
    }
   ],
   "source": [
    "tweet"
   ]
  },
  {
   "cell_type": "code",
   "execution_count": 40,
   "metadata": {},
   "outputs": [
    {
     "data": {
      "text/plain": [
       "['@capt_amarinder Which one is u sir',\n",
       " \"@capt_amarinder @capt_amarinder #AskCaptain  \\nFight with whom? Sir,  it's good to inspire the people but also need… https://t.co/EULCJaYvUx\",\n",
       " '@capt_amarinder Sry to say sir bt shyd tusi army de rule te kasm bhul gye ho. Army lai desh te desh de lok sbto upr… https://t.co/6OROYI4XTA',\n",
       " '@capt_amarinder 👍👍',\n",
       " '@capt_amarinder Salute https://t.co/kGzsvE4gRx',\n",
       " '@capt_amarinder Very nice ❤️🙏 https://t.co/61KZK9uf3j']"
      ]
     },
     "execution_count": 40,
     "metadata": {},
     "output_type": "execute_result"
    }
   ],
   "source": [
    "tweet_replies"
   ]
  },
  {
   "cell_type": "code",
   "execution_count": null,
   "metadata": {},
   "outputs": [],
   "source": []
  }
 ],
 "metadata": {
  "kernelspec": {
   "display_name": "Python 3",
   "language": "python",
   "name": "python3"
  },
  "language_info": {
   "codemirror_mode": {
    "name": "ipython",
    "version": 3
   },
   "file_extension": ".py",
   "mimetype": "text/x-python",
   "name": "python",
   "nbconvert_exporter": "python",
   "pygments_lexer": "ipython3",
   "version": "3.7.4"
  }
 },
 "nbformat": 4,
 "nbformat_minor": 2
}
