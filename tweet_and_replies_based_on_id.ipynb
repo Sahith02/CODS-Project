{
 "cells": [
  {
   "cell_type": "markdown",
   "metadata": {},
   "source": [
    "###### time taken = 10 sec avg"
   ]
  },
  {
   "cell_type": "code",
   "execution_count": 88,
   "metadata": {},
   "outputs": [],
   "source": [
    "import tweepy\n",
    "import sys"
   ]
  },
  {
   "cell_type": "code",
   "execution_count": 95,
   "metadata": {},
   "outputs": [],
   "source": [
    "username = 'imVkohli'\n",
    "maxreplies=10\n",
    "url=\"https://twitter.com/imVkohli/status/1292333248941445122\""
   ]
  },
  {
   "cell_type": "code",
   "execution_count": 96,
   "metadata": {},
   "outputs": [],
   "source": [
    "i=0\n",
    "j=0\n",
    "tweet_id=str()\n",
    "url=\"https://twitter.com/imVkohli/status/1292333248941445122\"\n",
    "for j in range(-19,0):\n",
    "    tweet_id=tweet_id+url[j]"
   ]
  },
  {
   "cell_type": "code",
   "execution_count": 97,
   "metadata": {},
   "outputs": [],
   "source": [
    "consumer_key = \"nuVGJn0bEsYiKJ7mKAPTwkskK\"\n",
    "consumer_secret = \"XwrP0uU74FzgOE2p5X2EFkgLtrv4sXEvwOBl1FgmSR1gjOM5SX\"\n",
    "access_token = \"1284091258638462976-0aO8tuh7lhsWXtf6Jck2vV1twJzGE4\"\n",
    "access_token_secret = \"x7Ux4p4AwW7oZocVYhwTJZEYVlSUzo20EOW4WX4B1CyLw\"\n",
    "auth = tweepy.OAuthHandler(consumer_key, consumer_secret)\n",
    "auth.set_access_token(access_token, access_token_secret)\n",
    "api = tweepy.API(auth,wait_on_rate_limit=True)\n",
    "\n"
   ]
  },
  {
   "cell_type": "code",
   "execution_count": 98,
   "metadata": {},
   "outputs": [],
   "source": [
    "tweet_replies=[]\n",
    "for full_tweets in tweepy.Cursor(api.user_timeline,screen_name=username,timeout=999).items(10):\n",
    "    if (full_tweets.id_str==tweet_id):\n",
    "        tweet=full_tweets.text\n",
    "for replies in tweepy.Cursor(api.search,q='to:'+username,result_type='mixed',timeout=999).items(100):\n",
    "      if hasattr(replies, 'in_reply_to_status_id_str'):\n",
    "        if (replies.in_reply_to_status_id_str==tweet_id and i<maxreplies):\n",
    "          i+=1\n",
    "          tweet_replies.append(replies.text)\n",
    "            "
   ]
  },
  {
   "cell_type": "code",
   "execution_count": 99,
   "metadata": {},
   "outputs": [
    {
     "data": {
      "text/plain": [
       "\"Loyalty above everything. Can't wait for what's to come. 🕘 https://t.co/TXm5k2xYzV\""
      ]
     },
     "execution_count": 99,
     "metadata": {},
     "output_type": "execute_result"
    }
   ],
   "source": [
    "tweet"
   ]
  },
  {
   "cell_type": "code",
   "execution_count": 100,
   "metadata": {},
   "outputs": [
    {
     "data": {
      "text/plain": [
       "['@imVkohli CORONA KI BAJAH SE MUSKIL ME HUN, PLZ MADAT KIJIYE 7008305207',\n",
       " '@imVkohli ,💪👍',\n",
       " '@imVkohli Rcb forever ❤️',\n",
       " '@imVkohli Rcb❤️🔥❤️',\n",
       " '@imVkohli Nice @imVkohli',\n",
       " '@imVkohli यहां तो सिर्फ गूंगे और बहरे लोग बसते हैं\\nख़ुदा जाने यहां पर किस तरह का जलसा हुआ होगा l… https://t.co/2VFgG0q2YH']"
      ]
     },
     "execution_count": 100,
     "metadata": {},
     "output_type": "execute_result"
    }
   ],
   "source": [
    "tweet_replies"
   ]
  },
  {
   "cell_type": "code",
   "execution_count": null,
   "metadata": {},
   "outputs": [],
   "source": []
  }
 ],
 "metadata": {
  "kernelspec": {
   "display_name": "Python 3",
   "language": "python",
   "name": "python3"
  },
  "language_info": {
   "codemirror_mode": {
    "name": "ipython",
    "version": 3
   },
   "file_extension": ".py",
   "mimetype": "text/x-python",
   "name": "python",
   "nbconvert_exporter": "python",
   "pygments_lexer": "ipython3",
   "version": "3.7.4"
  }
 },
 "nbformat": 4,
 "nbformat_minor": 2
}
